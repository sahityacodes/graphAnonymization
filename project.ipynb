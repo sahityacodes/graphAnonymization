{
 "cells": [
  {
   "cell_type": "code",
   "execution_count": 1,
   "metadata": {},
   "outputs": [],
   "source": [
    "import dynamic\n",
    "import greedy"
   ]
  },
  {
   "cell_type": "code",
   "execution_count": 2,
   "metadata": {},
   "outputs": [],
   "source": [
    "import matplotlib.pyplot  as plt\n",
    "import numpy as np\n",
    "import collections\n",
    "import networkx as nx\n",
    "import csv\n",
    "from numpy.core._multiarray_umath import ndarray"
   ]
  },
  {
   "cell_type": "code",
   "execution_count": 3,
   "metadata": {},
   "outputs": [],
   "source": [
    "G = nx.Graph()\n",
    "    \n",
    "with open('Dataset/quakers_nodelist.csv' , 'r') as nodecsv:  # Open the file\n",
    "    nodereader = csv.reader(nodecsv)  # Read the csv\n",
    "        # Retrieve the data (using Python list comprhension and list slicing to remove the header row, see footnote 3)\n",
    "    nodes = [ n for n in nodereader ][ 1: ]\n",
    "\n",
    "node_names = [ n[ 0 ] for n in nodes ]  # Get a list of only the node names\n",
    "\n",
    "with open('Dataset/quakers_edgelist.csv' , 'r') as edgecsv:  # Open the file\n",
    "    edgereader = csv.reader(edgecsv)  # Read the csv\n",
    "    edges = [ tuple(e) for e in edgereader ][ 1: ]  # Retrieve the data\n",
    "G.add_nodes_from(node_names)\n",
    "G.add_edges_from(edges)\n",
    "degree_list = tuple(map(lambda x:x[1], G.degree())) \n",
    "index_list = tuple(range(len(degree_list)))\n",
    "index_list, degree_list = zip(*sorted(zip(index_list, degree_list), key = lambda x:x[1], reverse = True))\n",
    "index_list, degree_list = list(index_list), list(degree_list)\n"
   ]
  },
  {
   "cell_type": "code",
   "execution_count": null,
   "metadata": {},
   "outputs": [],
   "source": [
    "r = list()\n",
    "degree_list = degree_list[0:100]\n",
    "for k in range(3,18):\n",
    "    greedy_anonymized = greedy.greedy_rec_algorithm(degree_list, k, 0, k)\n",
    "    greedy_cost = dynamic.calculateCost(degree_list, greedy_anonymized)\n",
    "    dp_memory_cost, dp_memory_anonymized = dynamic.memorizedDynamicProgramingGraphAnonymization(k, \n",
    "                                                            degree_list, optimization=True)\n",
    "    dp_cost, dp_anonymized = dynamic.dynamicProgramingGraphAnonymization(k, degree_list, optimization=True)\n",
    "    print(greedy_cost,dp_cost, dp_memory_cost)\n",
    "  \n",
    "#print((k, r))"
   ]
  },
  {
   "cell_type": "code",
   "execution_count": null,
   "metadata": {},
   "outputs": [],
   "source": []
  }
 ],
 "metadata": {
  "kernelspec": {
   "display_name": "Python 3",
   "language": "python",
   "name": "python3"
  },
  "language_info": {
   "codemirror_mode": {
    "name": "ipython",
    "version": 3
   },
   "file_extension": ".py",
   "mimetype": "text/x-python",
   "name": "python",
   "nbconvert_exporter": "python",
   "pygments_lexer": "ipython3",
   "version": "3.8.3"
  }
 },
 "nbformat": 4,
 "nbformat_minor": 4
}
