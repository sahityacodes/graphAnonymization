{
 "cells": [
  {
   "cell_type": "code",
   "execution_count": 1,
   "metadata": {},
   "outputs": [],
   "source": [
    "import dynamic\n",
    "import greedy"
   ]
  },
  {
   "cell_type": "code",
   "execution_count": 2,
   "metadata": {},
   "outputs": [],
   "source": [
    "import matplotlib.pyplot  as plt\n",
    "import numpy as np\n",
    "import collections\n",
    "import networkx as nx\n",
    "import csv\n",
    "from numpy.core._multiarray_umath import ndarray"
   ]
  },
  {
   "cell_type": "code",
   "execution_count": 9,
   "metadata": {},
   "outputs": [
    {
     "name": "stdout",
     "output_type": "stream",
     "text": [
      "This is index list: [15, 106, 36, 38, 55, 41, 96, 66, 114, 71, 117, 8, 47, 60, 112, 16, 58, 61, 70, 93, 2, 18, 32, 95, 97, 103, 7, 10, 19, 25, 51, 53, 76, 104, 111, 6, 9, 17, 22, 24, 26, 27, 30, 33, 35, 40, 43, 45, 46, 57, 63, 65, 67, 68, 69, 72, 74, 77, 80, 82, 88, 89, 94, 98, 100, 101, 109, 118, 0, 1, 3, 4, 5, 11, 12, 13, 14, 20, 21, 23, 28, 29, 31, 34, 37, 39, 42, 44, 48, 49, 50, 52, 54, 56, 59, 62, 64, 73, 75, 78, 79, 81, 83, 84, 85, 86, 87, 90, 91, 92, 99, 102, 105, 107, 108, 110, 113, 115, 116] \n",
      "\n",
      "This is degree list: [22, 18, 16, 13, 13, 10, 9, 8, 8, 7, 7, 6, 6, 6, 6, 5, 5, 5, 5, 5, 4, 4, 4, 4, 4, 4, 3, 3, 3, 3, 3, 3, 3, 3, 3, 2, 2, 2, 2, 2, 2, 2, 2, 2, 2, 2, 2, 2, 2, 2, 2, 2, 2, 2, 2, 2, 2, 2, 2, 2, 2, 2, 2, 2, 2, 2, 2, 2, 1, 1, 1, 1, 1, 1, 1, 1, 1, 1, 1, 1, 1, 1, 1, 1, 1, 1, 1, 1, 1, 1, 1, 1, 1, 1, 1, 1, 1, 1, 1, 1, 1, 1, 1, 1, 1, 1, 1, 1, 1, 1, 1, 1, 1, 1, 1, 1, 1, 1, 1]\n"
     ]
    }
   ],
   "source": [
    "G = nx.Graph()\n",
    "    \n",
    "with open('Dataset/quakers_nodelist.csv' , 'r') as nodecsv:  # Open the file\n",
    "    nodereader = csv.reader(nodecsv)  # Read the csv\n",
    "        # Retrieve the data (using Python list comprhension and list slicing to remove the header row, see footnote 3)\n",
    "    nodes = [ n for n in nodereader ][ 1: ]\n",
    "\n",
    "node_names = [ n[ 0 ] for n in nodes ]  # Get a list of only the node names\n",
    "\n",
    "with open('Dataset/quakers_edgelist.csv' , 'r') as edgecsv:  # Open the file\n",
    "    edgereader = csv.reader(edgecsv)  # Read the csv\n",
    "    edges = [ tuple(e) for e in edgereader ][ 1: ]  # Retrieve the data\n",
    "G.add_nodes_from(node_names)\n",
    "G.add_edges_from(edges)\n",
    "degree_list = tuple(map(lambda x:x[1], G.degree())) \n",
    "index_list = tuple(range(len(degree_list)))\n",
    "index_list, degree_list = zip(*sorted(zip(index_list, degree_list), key = lambda x:x[1], reverse = True))\n",
    "index_list, degree_list = list(index_list), list(degree_list)\n",
    "\n",
    "print(\"This is index list: {}\".format(index_list), \"\\n\")\n",
    "print(\"This is degree list: {}\".format(degree_list))"
   ]
  },
  {
   "cell_type": "code",
   "execution_count": 8,
   "metadata": {},
   "outputs": [
    {
     "name": "stdout",
     "output_type": "stream",
     "text": [
      "Values of r for DP: [1.0625, 1.0, 1.025, 1.0338983050847457, 0.9452054794520548, 0.989010989010989, 0.970873786407767, 0.957983193277311, 0.9548872180451128, 1.0134228187919463, 0.9696969696969697, 0.8504672897196262, 0.883177570093458, 0.9090909090909091, 0.9395161290322581] \n",
      "\n",
      "Values of r for Mem:[1.0625, 1.0, 1.025, 1.0338983050847457, 0.9452054794520548, 0.989010989010989, 0.970873786407767, 0.957983193277311, 0.9548872180451128, 1.0134228187919463, 0.9696969696969697, 0.8504672897196262, 0.883177570093458, 0.9090909090909091, 0.9395161290322581]\n"
     ]
    }
   ],
   "source": [
    "r_dp_memory = list()\n",
    "r_dp = list()\n",
    "degree_list = degree_list[0:40]\n",
    "for k in range(3,18):\n",
    "    greedy_anonymized = greedy.greedy_rec_algorithm(degree_list, k, 0, k)\n",
    "    greedy_cost = dynamic.calculateCost(degree_list, greedy_anonymized)\n",
    "    dp_memory_cost, dp_memory_anonymized = dynamic.memorizedDynamicProgramingGraphAnonymization(k, \n",
    "                                                                                    degree_list, optimization=True)\n",
    "    dp_cost, dp_anonymized = dynamic.dynamicProgramingGraphAnonymization(k, degree_list, optimization=True)\n",
    "    r_dp_memory.append(greedy_cost/dp_memory_cost)\n",
    "    r_dp.append(greedy_cost/dp_cost)\n",
    "  \n",
    "print(\"Values of r for DP: {}\".format(r_dp), \"\\n\")\n",
    "print(\"Values of r for Mem:{}\".format(r_dp_memory))"
   ]
  },
  {
   "cell_type": "code",
   "execution_count": null,
   "metadata": {},
   "outputs": [],
   "source": []
  }
 ],
 "metadata": {
  "kernelspec": {
   "display_name": "Python 3",
   "language": "python",
   "name": "python3"
  },
  "language_info": {
   "codemirror_mode": {
    "name": "ipython",
    "version": 3
   },
   "file_extension": ".py",
   "mimetype": "text/x-python",
   "name": "python",
   "nbconvert_exporter": "python",
   "pygments_lexer": "ipython3",
   "version": "3.8.3"
  }
 },
 "nbformat": 4,
 "nbformat_minor": 4
}
