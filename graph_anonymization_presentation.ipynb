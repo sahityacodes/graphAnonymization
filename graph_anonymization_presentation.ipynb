{
 "cells": [
  {
   "cell_type": "markdown",
   "metadata": {},
   "source": [
    "<center><img src=\"./Assets/Unige.svg\" alt=\"logo\" width=\"250\"/></center>\n",
    "\n",
    "# Graph Anonymization: A comparison between Dynamic Programing and Greedy-swap Algorithm\n",
    "\n",
    "#### Sanchayan Bhunia $(4849650)$, Sahitya Reddy Bollavaram $(4849759)$ <br> Date: $8^{th}$ March $2021$\n",
    "***"
   ]
  },
  {
   "cell_type": "markdown",
   "metadata": {},
   "source": [
    "## 1. Introduction\n",
    "### 1.1. What is a Graph?\n",
    "A Graph is a structure to represent a set of objects where <u>some pairs</u> of objects are \"related\". Each object can be represented by a <b>node</b> and the relation between pairs can be represented by an <b>edge</b> connecting them.\n",
    "\n",
    "<center><img src=\"./Assets/simple_graph.svg\" alt=\"simple_graph\" width=\"250\"/></center>\n",
    "\n",
    "### Direction of a Graph\n",
    "Based upon the relationship between a pair of nodes, a graph can be categorized between a **Directed Graph** or an **Undirected Graph**.\n",
    "### Directed Graph\n",
    "Directed Graphs are the graphs where the relationship between pairs is directional. \n",
    "\n",
    "<center><img src=\"./Assets/directed_graph.svg\" alt=\"drawing\" width=\"250\"/></center>\n",
    "\n",
    "### 1.2. Undirected Graph\n",
    "Undirected graphs are the graphs where the relationship between pairs do not have a direction. Each of the nodes can be *uniquely* represented with the **Index** of the node and number of **Edges**(relationships) it has with other nodes.\n",
    "\n",
    "<center><img src=\"./Assets/undirected_graph.svg\" alt=\"drawing\" width=\"250\"/></center>\n",
    "\n",
    "If, $V$ is the set of all vertices and $E$ is the set of all edges.\n",
    "Then the whole grahp, $G$ can be represented as a collection of Vertices$(v)$ and Edges$(e)$. \n",
    "\n",
    "$$G = \\{(v_{1}, e_{1}),(v_{2}, e_{2}), ... ,(v_{i}, e_{i})\\}$$\n",
    "\n",
    "where $v_{i} \\in V$ and $e_{i} \\in E$\n",
    "\n",
    "\n",
    "### 1.3. Degree Sequence\n",
    "A **degree** of a vertice $(v)$ is the the number of edges, $(e)$ it has. We can collect of all degrees corresponding to all of the vertices and make a set. E.g. such a *set* for our example graph is : $\\{2,3,2,3,3,1\\}$.\n",
    "The **Degree Sequence** $(d_{G})$ of a Graph $(G)$ is just re-ordering such a *set* in a decreasing sequence. E.g. The degree sequence of our example graph is : $\\{3,3,3,2,2,1\\}$.<br>\n",
    "As we can see here that the degree sequence has same number of elements as the number of vertices in the graph. i.e. if there are $n$ number of nodes in the graph, degree sequence will be a vector of length $n$.\n"
   ]
  },
  {
   "cell_type": "markdown",
   "metadata": {},
   "source": [
    "## 2. Graph Anonymization\n",
    "In order for an organization to sell or share graph data, the data needs to anonymized in order to respect its privacy policies. In a typical graph database there are *three* types of anonymizations those need to be performed namely *Identitiy Protection*, *Content Protection* and *Link Protection*. <br>\n",
    "$k$-Degree anonimization is a graph modification technique used to anonymize the identity of the nodes with certain *$k$* degree.\n",
    "\n",
    "\n",
    "### 2.1. $k$-Degree Anonymity\n",
    "The main goal of the k-degree anonimization is to make sure that, for each node $(v)$ in the graph $G$ there exists alteast $k-1$ other nodes with the same degree as $v$. <br>\n",
    "If the graph $G$ has $n$ nodes, the *degree sequence $(d_{G})$* of $G$ is an $n$ dimensional vector with, $d_{G}(i) \\ge d_{G}(j)$ for all $j > i$ where $i$ and $i$ are two the indices of the vector $d_{G}$.<br>\n",
    "\n",
    "The vector $d_{G}$ is *k-anonymous* if every distinct value in $d_{G}$ appears **atleast** $k$ times. The graph $G$ corresponding to $d_{G}$ will be called *$k$-Degree anonymous* **iff** $d_{G}$ is *k-anonymous*.<br>\n",
    "\n",
    "For our example graph to be *$3$-Degree anonymous*, we have to modify the degree sequence, $\\{3,3,3,2,2,1\\}$ to $\\{3,3,3,2,2,2\\}$.\n",
    "\n",
    "#### 2.1.1. Cost function\n",
    "One of the ways to quantify the anonymization cost is by using a cost function $L_{1}$. Given a graph $G$ and its anonymized form $\\hat{G}$ the cost function $L_{1}$ returns the total cost of turning $d_{G}$ into $d_{\\hat{G}}$.\n",
    "\n",
    "$$L_{1}(d_{G}, d_{\\hat{G}}) = \\sum_{i=1}^{n} \\left|d_{\\hat{G}}(i) - d_{G}(i) \\right| $$\n",
    "\n",
    "For our example graph, the cost of anonymization, $$L_{1} = |3-3| + |3-3| + |3-3| + |2-2| + |2-2| + |2-1| = 1$$ \n",
    "\n",
    "### 2.2. $k$-Degree Anonymization Algorithms\n",
    "The job of a $k$-Degree Anonymization algorithm is to take an input graph $G$ and an integer $k$ to output a $k$-Degree anonymized graph $G'$ keeping the cost $L_{1}$ minimum.<br>\n",
    "$k$-Degree Anonymity can be achieved both by using *dynamic programming* and *greedy-swap* algorithms but anonymization cost $L_{1}$, might differ form one method to another."
   ]
  },
  {
   "cell_type": "markdown",
   "metadata": {},
   "source": [
    "#### 2.2.1. Dynamic Programing\n",
    "\n"
   ]
  },
  {
   "cell_type": "code",
   "execution_count": 69,
   "metadata": {},
   "outputs": [],
   "source": [
    "import dynamic\n",
    "import greedy"
   ]
  },
  {
   "cell_type": "code",
   "execution_count": 70,
   "metadata": {},
   "outputs": [],
   "source": [
    "import matplotlib.pyplot  as plt\n",
    "import numpy as np\n",
    "import collections\n",
    "import networkx as nx\n",
    "import csv\n",
    "from numpy.core._multiarray_umath import ndarray"
   ]
  },
  {
   "cell_type": "code",
   "execution_count": 71,
   "metadata": {},
   "outputs": [
    {
     "name": "stdout",
     "output_type": "stream",
     "text": [
      "This is index list: [15, 106, 36, 38, 55, 41, 96, 66, 114, 71, 117, 8, 47, 60, 112, 16, 58, 61, 70, 93, 2, 18, 32, 95, 97, 103, 7, 10, 19, 25, 51, 53, 76, 104, 111, 6, 9, 17, 22, 24, 26, 27, 30, 33, 35, 40, 43, 45, 46, 57, 63, 65, 67, 68, 69, 72, 74, 77, 80, 82, 88, 89, 94, 98, 100, 101, 109, 118, 0, 1, 3, 4, 5, 11, 12, 13, 14, 20, 21, 23, 28, 29, 31, 34, 37, 39, 42, 44, 48, 49, 50, 52, 54, 56, 59, 62, 64, 73, 75, 78, 79, 81, 83, 84, 85, 86, 87, 90, 91, 92, 99, 102, 105, 107, 108, 110, 113, 115, 116] \n",
      "\n",
      "This is degree list: [22, 18, 16, 13, 13, 10, 9, 8, 8, 7, 7, 6, 6, 6, 6, 5, 5, 5, 5, 5, 4, 4, 4, 4, 4, 4, 3, 3, 3, 3, 3, 3, 3, 3, 3, 2, 2, 2, 2, 2, 2, 2, 2, 2, 2, 2, 2, 2, 2, 2, 2, 2, 2, 2, 2, 2, 2, 2, 2, 2, 2, 2, 2, 2, 2, 2, 2, 2, 1, 1, 1, 1, 1, 1, 1, 1, 1, 1, 1, 1, 1, 1, 1, 1, 1, 1, 1, 1, 1, 1, 1, 1, 1, 1, 1, 1, 1, 1, 1, 1, 1, 1, 1, 1, 1, 1, 1, 1, 1, 1, 1, 1, 1, 1, 1, 1, 1, 1, 1]\n"
     ]
    }
   ],
   "source": [
    "G = nx.Graph()\n",
    "    \n",
    "with open('Datasets/quakers_nodelist.csv' , 'r') as nodecsv:  # Open the file\n",
    "    nodereader = csv.reader(nodecsv)  # Read the csv\n",
    "        # Retrieve the data (using Python list comprhension and list slicing to remove the header row, see footnote 3)\n",
    "    nodes = [ n for n in nodereader ][ 1: ]\n",
    "\n",
    "node_names = [ n[ 0 ] for n in nodes ]  # Get a list of only the node names\n",
    "\n",
    "with open('Datasets/quakers_edgelist.csv' , 'r') as edgecsv:  # Open the file\n",
    "    edgereader = csv.reader(edgecsv)  # Read the csv\n",
    "    edges = [ tuple(e) for e in edgereader ][ 1: ]  # Retrieve the data\n",
    "G.add_nodes_from(node_names)\n",
    "G.add_edges_from(edges)\n",
    "degree_list = tuple(map(lambda x:x[1], G.degree())) \n",
    "index_list = tuple(range(len(degree_list)))\n",
    "index_list, degree_list = zip(*sorted(zip(index_list, degree_list), key = lambda x:x[1], reverse = True))\n",
    "index_list, degree_list = list(index_list), list(degree_list)\n",
    "\n",
    "print(\"This is index list: {}\".format(index_list), \"\\n\")\n",
    "print(\"This is degree list: {}\".format(degree_list))"
   ]
  },
  {
   "cell_type": "code",
   "execution_count": 72,
   "metadata": {},
   "outputs": [
    {
     "name": "stdout",
     "output_type": "stream",
     "text": [
      "Values of r for DP: [1.0625, 1.0, 1.025, 1.0338983050847457, 0.9452054794520548, 0.989010989010989, 0.970873786407767, 0.957983193277311, 0.9548872180451128, 1.0134228187919463, 0.9696969696969697, 0.8504672897196262, 0.883177570093458, 0.9090909090909091, 0.9395161290322581] \n",
      "\n",
      "Values of r for Mem:[1.0625, 1.0, 1.025, 1.0338983050847457, 0.9452054794520548, 0.989010989010989, 0.970873786407767, 0.957983193277311, 0.9548872180451128, 1.0134228187919463, 0.9696969696969697, 0.8504672897196262, 0.883177570093458, 0.9090909090909091, 0.9395161290322581]\n"
     ]
    }
   ],
   "source": [
    "r_dp_memory = list()\n",
    "r_dp = list()\n",
    "degree_list = degree_list[0:40]\n",
    "for k in range(3,18):\n",
    "    greedy_anonymized = greedy.greedy_rec_algorithm(degree_list, k, 0, k)\n",
    "    greedy_cost = dynamic.calculateCost(degree_list, greedy_anonymized)\n",
    "    \n",
    "    dp_cost, dp_anonymized = dynamic.dynamicProgramingGraphAnonymization(k, degree_list, optimization=True)\n",
    "    r_dp.append(greedy_cost/dp_cost)\n",
    "    \n",
    "    dp_memory_cost, dp_memory_anonymized = dynamic.memorizedDynamicProgramingGraphAnonymization(k, \n",
    "                                                                                    degree_list, optimization=True)\n",
    "    r_dp_memory.append(greedy_cost/dp_memory_cost)\n",
    "  \n",
    "print(\"Values of r for DP: {}\".format(r_dp), \"\\n\")\n",
    "print(\"Values of r for Mem:{}\".format(r_dp_memory))"
   ]
  },
  {
   "cell_type": "code",
   "execution_count": null,
   "metadata": {},
   "outputs": [],
   "source": []
  }
 ],
 "metadata": {
  "kernelspec": {
   "display_name": "Python 3",
   "language": "python",
   "name": "python3"
  },
  "language_info": {
   "codemirror_mode": {
    "name": "ipython",
    "version": 3
   },
   "file_extension": ".py",
   "mimetype": "text/x-python",
   "name": "python",
   "nbconvert_exporter": "python",
   "pygments_lexer": "ipython3",
   "version": "3.8.3"
  }
 },
 "nbformat": 4,
 "nbformat_minor": 4
}