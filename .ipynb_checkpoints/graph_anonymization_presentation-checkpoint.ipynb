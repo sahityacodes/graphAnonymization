{
 "cells": [
  {
   "cell_type": "markdown",
   "metadata": {},
   "source": [
    "<img src=\"./Assets/Unige.svg\" alt=\"logo\" width=\"250\"/>\n",
    "\n",
    "# Graph Anonymization: A comparison between Dynamic Programing and Greedy-swap Algorithm\n",
    "\n",
    "#### Sanchayan Bhunia $(4849650)$, Sahitya Reddy Bollavaram $(4849759)$\n",
    "***\n",
    "\n",
    "## 1. Introduction\n",
    "### 1.1. What is a Graph?\n",
    "A Graph is a structure to represent a set of objects where <u>some pairs</u> of objects are \"related\". Each object can be represented by a <b>node</b> and the relation between pairs can be represented by an <b>edge</b> connecting them.\n",
    "\n",
    "<img src=\"./Assets/simple_graph.svg\" alt=\"simple_graph\" width=\"250\"/>\n",
    "\n",
    "### Direction of a Graph\n",
    "Based upon the relationship between a pair of nodes, a graph can be categorized between a **Directed Graph** or an **Undirected Graph**.\n",
    "### Directed Graph\n",
    "Directed Graphs are the graphs where the relationship between pairs is directional. \n",
    "\n",
    "<img src=\"./Assets/directed_graph.svg\" alt=\"drawing\" width=\"250\"/>\n",
    "\n",
    "### 1.2. Undirected Graph\n",
    "Undirected graphs are the graphs where the relationship between pairs do not have a direction. Each of the nodes can be *uniquely* represented with the **Index** of the node and number of **Edges**(relationships) it has with other nodes.\n",
    "\n",
    "<img src=\"./Assets/undirected_graph.svg\" alt=\"drawing\" width=\"250\"/>\n",
    "\n",
    "If, $V$ is the set of all vertices and $E$ is the set of all edges.\n",
    "Then the whole grahp, $G$ can be represented as a collection of Vertices$(v)$ and Edges$(e)$. \n",
    "\n",
    "$$G = \\{(v_{1}, e_{1}),(v_{2}, e_{2}), ... ,(v_{i}, e_{i})\\}$$\n",
    "\n",
    "where $v_{i} \\in V$ and $e_{i} \\in E$\n",
    "\n",
    "\n",
    "### 1.3. Degree Sequence\n",
    "A **degree** of a vertice $(v)$ is the the number of edges, $(e)$ it has. We can collect of all degrees corresponding to all of the vertices and make a set. E.g. such a *set* for our example graph is : $\\{2,3,2,3,3,1\\}$.\n",
    "The **Degree Sequence** $(d_{G})$ of a Graph $(G)$ is just re-ordering such a *set* in a decreasing sequence. E.g. The degree sequence of our example graph is : $\\{3,3,3,2,2,1\\}$.<br>\n",
    "As we can see here that the degree sequence is a vector of the length \n",
    "\n",
    "\n"
   ]
  },
  {
   "cell_type": "code",
   "execution_count": 1,
   "metadata": {},
   "outputs": [],
   "source": [
    "import dynamic\n",
    "import greedy"
   ]
  },
  {
   "cell_type": "code",
   "execution_count": 2,
   "metadata": {},
   "outputs": [],
   "source": [
    "import matplotlib.pyplot  as plt\n",
    "import numpy as np\n",
    "import collections\n",
    "import networkx as nx\n",
    "import csv\n",
    "from numpy.core._multiarray_umath import ndarray"
   ]
  },
  {
   "cell_type": "code",
   "execution_count": 3,
   "metadata": {},
   "outputs": [
    {
     "name": "stdout",
     "output_type": "stream",
     "text": [
      "This is index list: [15, 106, 36, 38, 55, 41, 96, 66, 114, 71, 117, 8, 47, 60, 112, 16, 58, 61, 70, 93, 2, 18, 32, 95, 97, 103, 7, 10, 19, 25, 51, 53, 76, 104, 111, 6, 9, 17, 22, 24, 26, 27, 30, 33, 35, 40, 43, 45, 46, 57, 63, 65, 67, 68, 69, 72, 74, 77, 80, 82, 88, 89, 94, 98, 100, 101, 109, 118, 0, 1, 3, 4, 5, 11, 12, 13, 14, 20, 21, 23, 28, 29, 31, 34, 37, 39, 42, 44, 48, 49, 50, 52, 54, 56, 59, 62, 64, 73, 75, 78, 79, 81, 83, 84, 85, 86, 87, 90, 91, 92, 99, 102, 105, 107, 108, 110, 113, 115, 116] \n",
      "\n",
      "This is degree list: [22, 18, 16, 13, 13, 10, 9, 8, 8, 7, 7, 6, 6, 6, 6, 5, 5, 5, 5, 5, 4, 4, 4, 4, 4, 4, 3, 3, 3, 3, 3, 3, 3, 3, 3, 2, 2, 2, 2, 2, 2, 2, 2, 2, 2, 2, 2, 2, 2, 2, 2, 2, 2, 2, 2, 2, 2, 2, 2, 2, 2, 2, 2, 2, 2, 2, 2, 2, 1, 1, 1, 1, 1, 1, 1, 1, 1, 1, 1, 1, 1, 1, 1, 1, 1, 1, 1, 1, 1, 1, 1, 1, 1, 1, 1, 1, 1, 1, 1, 1, 1, 1, 1, 1, 1, 1, 1, 1, 1, 1, 1, 1, 1, 1, 1, 1, 1, 1, 1]\n"
     ]
    }
   ],
   "source": [
    "G = nx.Graph()\n",
    "    \n",
    "with open('Datasets/quakers_nodelist.csv' , 'r') as nodecsv:  # Open the file\n",
    "    nodereader = csv.reader(nodecsv)  # Read the csv\n",
    "        # Retrieve the data (using Python list comprhension and list slicing to remove the header row, see footnote 3)\n",
    "    nodes = [ n for n in nodereader ][ 1: ]\n",
    "\n",
    "node_names = [ n[ 0 ] for n in nodes ]  # Get a list of only the node names\n",
    "\n",
    "with open('Datasets/quakers_edgelist.csv' , 'r') as edgecsv:  # Open the file\n",
    "    edgereader = csv.reader(edgecsv)  # Read the csv\n",
    "    edges = [ tuple(e) for e in edgereader ][ 1: ]  # Retrieve the data\n",
    "G.add_nodes_from(node_names)\n",
    "G.add_edges_from(edges)\n",
    "degree_list = tuple(map(lambda x:x[1], G.degree())) \n",
    "index_list = tuple(range(len(degree_list)))\n",
    "index_list, degree_list = zip(*sorted(zip(index_list, degree_list), key = lambda x:x[1], reverse = True))\n",
    "index_list, degree_list = list(index_list), list(degree_list)\n",
    "\n",
    "print(\"This is index list: {}\".format(index_list), \"\\n\")\n",
    "print(\"This is degree list: {}\".format(degree_list))"
   ]
  },
  {
   "cell_type": "code",
   "execution_count": 5,
   "metadata": {},
   "outputs": [
    {
     "name": "stdout",
     "output_type": "stream",
     "text": [
      "Values of r for DP: [0.06854838709677419, 2.25, 1.1388888888888888, 1.525, 1.1694915254237288, 1.2328767123287672, 1.098901098901099, 1.1067961165048543, 1.0672268907563025, 1.1353383458646618, 1.0738255033557047, 1.103030303030303, 0.883177570093458, 0.9813084112149533, 1.0086580086580086] \n",
      "\n",
      "Values of r for Mem:[1.0625, 1.0, 1.025, 1.0338983050847457, 0.9452054794520548, 0.989010989010989, 0.970873786407767, 0.957983193277311, 0.9548872180451128, 1.0134228187919463, 0.9696969696969697, 0.8504672897196262, 0.883177570093458, 0.9090909090909091, 0.9395161290322581]\n"
     ]
    }
   ],
   "source": [
    "r_dp_memory = list()\n",
    "r_dp = list()\n",
    "degree_list = degree_list[0:40]\n",
    "for k in range(3,18):\n",
    "    greedy_anonymized = greedy.greedy_rec_algorithm(degree_list, k, 0, k)\n",
    "    greedy_cost = dynamic.calculateCost(degree_list, greedy_anonymized)\n",
    "    r_dp.append(greedy_cost/dp_cost)\n",
    "    \n",
    "    dp_memory_cost, dp_memory_anonymized = dynamic.memorizedDynamicProgramingGraphAnonymization(k, \n",
    "                                                                                    degree_list, optimization=True)\n",
    "    dp_cost, dp_anonymized = dynamic.dynamicProgramingGraphAnonymization(k, degree_list, optimization=True)\n",
    "    r_dp_memory.append(greedy_cost/dp_memory_cost)\n",
    "  \n",
    "print(\"Values of r for DP: {}\".format(r_dp), \"\\n\")\n",
    "print(\"Values of r for Mem:{}\".format(r_dp_memory))"
   ]
  },
  {
   "cell_type": "code",
   "execution_count": null,
   "metadata": {},
   "outputs": [],
   "source": []
  }
 ],
 "metadata": {
  "kernelspec": {
   "display_name": "Python 3",
   "language": "python",
   "name": "python3"
  },
  "language_info": {
   "codemirror_mode": {
    "name": "ipython",
    "version": 3
   },
   "file_extension": ".py",
   "mimetype": "text/x-python",
   "name": "python",
   "nbconvert_exporter": "python",
   "pygments_lexer": "ipython3",
   "version": "3.8.3"
  }
 },
 "nbformat": 4,
 "nbformat_minor": 4
}
