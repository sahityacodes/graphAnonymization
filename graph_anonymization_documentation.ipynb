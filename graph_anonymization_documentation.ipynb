{
 "cells": [
  {
   "cell_type": "markdown",
   "metadata": {},
   "source": [
    "<center><img src=\"./Assets/Unige.svg\" alt=\"logo\" width=\"250\"/></center>\n",
    "\n",
    "# Graph Anonymization: A comparison between Dynamic Programing and Greedy-swap Algorithm\n",
    "\n",
    "#### Sanchayan Bhunia $(4849650)$, Sahitya Reddy Bollavaram $(4849759)$ <br> Date: $8^{th}$ March $2021$\n",
    "***"
   ]
  },
  {
   "cell_type": "markdown",
   "metadata": {},
   "source": [
    "## 1. Introduction\n",
    "### 1.1. What is a Graph?\n",
    "A Graph is a structure to represent a set of objects where <u>some pairs</u> of objects are \"related\". Each object can be represented by a <b>node</b> and the relation between pairs can be represented by an <b>edge</b> connecting them.\n",
    "\n",
    "<center><img src=\"Assets/simple_graph.svg\" alt=\"simple_graph\" width=\"250\"/></center>\n",
    "<br>\n",
    "<center><strong><em>figure:</em></strong>A Simple Graph</center>\n",
    "<br>\n",
    "\n",
    "### Direction of a Graph\n",
    "Based upon the relationship between a pair of nodes, a graph can be categorized between a **Directed Graph** or an **Undirected Graph**.\n",
    "### Directed Graph\n",
    "Directed Graphs are the graphs where the relationship between pairs is directional. \n",
    "\n",
    "<center><img src=\"Assets/directed_graph.svg\" alt=\"drawing\" width=\"250\"/></center>\n",
    "<br>\n",
    "<center><strong><em>figure:</em></strong> A Simple Directed Graph</center>\n",
    "<br>\n",
    "\n",
    "### 1.2. Undirected Graph\n",
    "Undirected graphs are the graphs where the relationship between pairs do not have a direction. Each of the nodes can be *uniquely* represented with the **Index** of the node and number of **Edges**(relationships) it has with other nodes.\n",
    "\n",
    "<center><img src=\"Assets/undirected_graph.svg\" alt=\"drawing\" width=\"250\"/></center>\n",
    "<br>\n",
    "<center><strong><em>figure:</em></strong> A Simple Undirected Graph</center>\n",
    "<br>\n",
    "\n",
    "If, $V$ is the set of all vertices and $E$ is the set of all edges.\n",
    "Then the whole grahp, $G$ can be represented as a collection of Vertices$(v)$ and Edges$(e)$. \n",
    "\n",
    "$$\n",
    "\\begin{equation}\n",
    "G = \\big\\{(v_{1}, e_{1}), \\, (v_{2}, e_{2}), \\, ... \\, , \\, (v_{i}, e_{i})\\big\\}\n",
    "\\end{equation}\n",
    "$$\n",
    "\n",
    "where $v_{i} \\in V$ and $e_{i} \\in E$\n",
    "\n",
    "\n",
    "### 1.3. Degree Sequence\n",
    "A **degree** of a vertice $(v)$ is the the number of edges, $(e)$ it has. We can collect of all degrees corresponding to all of the vertices and make a set. E.g. such a *set* for our example graph is : $\\big\\{2,3,2,3,3,1\\big\\}$.\n",
    "The **Degree Sequence** $(d_{G})$ of a Graph $(G)$ is just re-ordering such a *set* in a decreasing sequence. E.g. The degree sequence of our example graph is : $\\big\\{3,3,3,2,2,1\\big\\}$.\n",
    "<br>\n",
    "<br>\n",
    "As we can see here that the degree sequence has same number of elements as the number of vertices in the graph. i.e. if there are $n$ number of nodes in the graph, degree sequence will be a vector of length $n$.\n"
   ]
  },
  {
   "cell_type": "markdown",
   "metadata": {},
   "source": [
    "## 2. Graph Anonymization\n",
    "In order for an organization to sell or share graph data, the data needs to anonymized in order to respect its privacy policies. In a typical graph database there are *three* types of anonymizations those need to be performed namely *Identitiy Protection*, *Content Protection* and *Link Protection*. <br>\n",
    "$k$-Degree anonimization is a graph modification technique used to anonymize the identity of the nodes with certain *$k$* degree.\n",
    "\n",
    "\n",
    "### 2.1. $k$-Degree Anonymity\n",
    "The main goal of the k-degree anonimization is to make sure that, for each node $(v)$ in the graph $G$ there exists alteast $k-1$ other nodes with the same degree as $v$. <br>\n",
    "If the graph $G$ has $n$ nodes, the *degree sequence $(d_{G})$* of $G$ is an $n$ dimensional vector with, $d_{G}(i) \\ge d_{G}(j) \\; \\forall \\; j > i$ where $i$ and $j$ are two the indices of the vector $d_{G}$.<br>\n",
    "\n",
    "The vector $d_{G}$ is *k-anonymous* if every distinct value in $d_{G}$ appears **atleast** $k$ times. The graph $G$ corresponding to $d_{G}$ will be called *$k$-Degree anonymous* **iff** $d_{G}$ is *k-anonymous*.<br>\n",
    "\n",
    "For our example graph to be *$3$-Degree anonymous*, we have to modify the degree sequence, $\\big\\{3,3,3,2,2,1\\big\\}$ to $\\big\\{3,3,3,2,2,2\\big\\}$.\n",
    "\n",
    "#### 2.1.1. Cost function\n",
    "One of the ways to quantify the anonymization cost is by using a cost function $L_{1}$. Given a graph $G$ and its anonymized form $\\hat{G}$ the cost function $L_{1}$ returns the total cost of turning $d_{G}$ into $d_{\\hat{G}}$.\n",
    "\n",
    "$$\n",
    "\\begin{equation}\n",
    "L_{1}\\big(d_{G}, \\, d_{\\hat{G}}\\big) = \\sum_{i=1}^{n} \\Bigg| \\, d_{\\hat{G}}(i) - d_{G}(i) \\, \\Bigg| \n",
    "\\end{equation}\n",
    "$$\n",
    "\n",
    "For our example graph, the cost of anonymization, $$L_{1} = |3-3| + |3-3| + |3-3| + |2-2| + |2-2| + |2-1| = 1$$ \n",
    "\n",
    "### 2.2. $k$-Degree Anonymization Algorithms\n",
    "The job of a $k$-Degree Anonymization algorithm is to take an input graph $G$ and an integer $k$ to output a $k$-Degree anonymized graph $G'$ keeping the cost $L_{1}$ minimum.<br>\n",
    "$k$-Degree Anonymity can be achieved both by using *dynamic programming* and *greedy-swap* algorithms but anonymization cost $L_{1}$, might differ form one method to another."
   ]
  },
  {
   "cell_type": "markdown",
   "metadata": {},
   "source": [
    "#### 2.2.1. Dynamic Programing\n",
    "Dynamic programing is implemented by breaking the problem into smaller recurring sub-problems.<br>\n",
    "<ol>\n",
    "\n",
    "<li>Let suppose, we have a degree sequence $d$ of dimension $n$ and by definition it is sorted. i.e. \n",
    "$$\n",
    "\\begin{equation}\n",
    "d(1) \\, \\ge \\, d(2) \\, \\ge \\, ... \\, \\ge \\, d(n)\n",
    "\\end{equation}\n",
    "$$\n",
    "<br>\n",
    "<li>Let, $Da\\big(d[1,i]\\big)$ be the degree anonymization cost of the sub-sequence $d[1,i]$.\n",
    "<br>\n",
    "<br>\n",
    "<li> Also let, $I\\big(d[i,j]\\big)$ be the anonymization cost when all the elements from $d(i), d(i+1), ..., d(j)$ are assigned the same value as $d(i)$. i.e.\n",
    "$$\n",
    "\\begin{equation}\n",
    "I(d[i,j]) = \\sum_{l=i}^{j}\\big(d(i) - d(l)\\big)\n",
    "\\end{equation}\n",
    "$$\n",
    "    \n",
    "</ol>\n",
    "<br>\n",
    "Given these assumptions, a dynamic algorithm can be formed as the following,<br>\n",
    "\n",
    "##### Condition 1:\n",
    "\n",
    "When, $k \\gt \\frac{i}{2}$, it is *impossible* to form two groups with distinct values. So, we put them in the same group. E.g. for a 3-Degree anonymization of a sub-sequence $d[1,4] = \\big\\{3,3,2,2\\big\\}$ has to be $\\big\\{3,3,3,3\\big\\}$. So, the cost of anonymization can be calculated like the following, \n",
    "$$\n",
    "\\begin{equation}\n",
    "Da\\big(d[1,i]\\big) = I\\big(d[1,i]\\big)\n",
    "\\end{equation}\n",
    "$$\n",
    "\n",
    "##### Condition 2:\n",
    "\n",
    "When, $k \\le \\frac{i}{2}$ the degree sequence can be broken down in smaller sub-sequences recurssively until the size of the sub-sequence follows *Condition 1*. At this stage, every recursive step will have some *chunk* of the degree sequence with a length $\\lt 2k$ and for the rest of the sub-sequence we can apply the same method recurssively. And the total cost for that step will be sum over the cost of putting the a chunk in the same group and the cost of anonymizing the rest of the degree sequence recursively. And then we can *vary* the size of each chunk $t$ and take the take the anonymized sequence with mininum cost and return it to the previous recurssive stage in the *heap*.\n",
    "<br>\n",
    "$$\n",
    "\\begin{equation}\n",
    "Da\\big(d[1, i]\\big) = \\min\\bigg\\{ \\min_{k \\, \\le \\, t \\, \\le \\, i-k}\\Big\\{Da\\big(d[1, t]\\big)+I\\big(d[t+1, \\, i-k]\\big)\\Big\\}, \\; I\\big(d[1, i]\\big)\\bigg\\}\n",
    "\\end{equation}\n",
    "$$"
   ]
  },
  {
   "cell_type": "markdown",
   "metadata": {},
   "source": [
    "##### The Dynamic Programing Algorithm\n",
    "<center><img src=\"Assets/recursion_heap.svg\" alt=\"drawing\" width=\"500\"/></center>\n",
    "<br>\n",
    "<center><strong><em>figure:</em></strong> Recursion Heap</center>\n",
    "<br>\n"
   ]
  },
  {
   "cell_type": "code",
   "execution_count": 1,
   "metadata": {},
   "outputs": [],
   "source": [
    "# This function takes a full or part of a sequence and converts all of the values to the heighest value in the sequence\n",
    "# then it returns the cost of the operation and the converted sequence.\n",
    "\n",
    "# To eliminate any delay due to searching in a list, we will rather use key,value pairs to store them in a dictionary\n",
    "\n",
    "def putInSameGroup(sequence): \n",
    "    cost = 0\n",
    "    for i in range(len(sequence)):\n",
    "        cost +=  sequence[0] - sequence[i]\n",
    "    \n",
    "    return cost, [sequence[0]]*len(sequence)\n",
    "    \n",
    "\n",
    "# Input: degree sequence and the value of k as input\n",
    "# Output: the cost of anonymization, anonymized sequence\n",
    "def dynamicPrograming(k, degree_sequence): \n",
    "\n",
    "    number_of_nodes = len(degree_sequence)\n",
    "    cost_vs_degree_sequences = dict()\n",
    "    \n",
    "    # Condition 1\n",
    "    if k > number_of_nodes / 2:\n",
    "        return putInSameGroup(degree_sequence)\n",
    "\n",
    "    # Condition 2\n",
    "    else:\n",
    "        cost_vs_degree_sequences.clear()\n",
    "        lower_range = k\n",
    "        upper_range = number_of_nodes - k+1\n",
    "        \n",
    "        for chunk in range(lower_range, upper_range):\n",
    "            # This is the sub-sequence which will be Anonymized\n",
    "            to_anonymize = degree_sequence[0: chunk]     \n",
    "            \n",
    "            # Rest of the sequence to put in the same group\n",
    "            in_same_group = degree_sequence[chunk: number_of_nodes] \n",
    "            \n",
    "            # The recurssion step\n",
    "            cost_anonymize, sequence_anonymized = dynamicPrograming(k, to_anonymize)\n",
    "            \n",
    "            # part where we put them in same group\n",
    "            cost_same_group, same_group_squence = putInSameGroup(in_same_group)\n",
    "            \n",
    "            # Total cost is calculated for this level in the stack\n",
    "            chunk_cost = cost_anonymize + cost_same_group\n",
    "            \n",
    "            # And the anonymized sequence in this level\n",
    "            anonymized_chunk = sequence_anonymized + same_group_squence\n",
    "            \n",
    "            # Cost and corresponding sequence is stored as (key, value) pair\n",
    "            cost_vs_degree_sequences[chunk_cost] = anonymized_chunk \n",
    "            \n",
    "            #print((chunk, number_of_nodes), anonymized_chunk)\n",
    "        \n",
    "        # Now we will search for the minimum cost in key-space and return corresponding (cost, anonymized sequence) pair \n",
    "        return min(cost_vs_degree_sequences.items(), key = lambda x: x[0])\n"
   ]
  },
  {
   "cell_type": "markdown",
   "metadata": {},
   "source": [
    "##### Artificial Data Generator\n",
    "Now, we will *define a function* to generate degree sequence of *desired* length, lowest and highest degree value. As oppose to the *real* data, this artificial data will help us to find out the run-time of the algorithm for degree list of different sizes which is useful to quantify the effects of additional modifications to the algorithm."
   ]
  },
  {
   "cell_type": "code",
   "execution_count": 2,
   "metadata": {},
   "outputs": [],
   "source": [
    "import numpy as np\n",
    "from numpy import random\n",
    "\n",
    "# Given a length this function will output a degree sequence. \n",
    "# Additionally it is also possible to mention the highest and athe lowest degree\n",
    "def generateDegreeSequence(length, lowest_degree = 1, highest_degree = None):\n",
    "    \n",
    "    if highest_degree == None:\n",
    "        highest_degree = length\n",
    "        \n",
    "    degree_list = random.randint(high = highest_degree+1, low = lowest_degree, size=length)\n",
    "    degree_sequence = np.sort(degree_list)[::-1]\n",
    "    return degree_sequence.tolist()"
   ]
  },
  {
   "cell_type": "markdown",
   "metadata": {},
   "source": [
    "##### Checking if our algorithm actually works\n",
    "Now let's generate a degree sequence and check our dynamic programing graph anonymization algorithm."
   ]
  },
  {
   "cell_type": "code",
   "execution_count": 3,
   "metadata": {},
   "outputs": [
    {
     "name": "stdout",
     "output_type": "stream",
     "text": [
      "Not Anonymized Sequence: [15, 15, 15, 13, 13, 13, 12, 11, 11, 10, 7, 7, 7, 6, 6, 6, 2, 2, 2, 1]\n",
      "7-Anonymized Sequence:[15, 15, 15, 15, 15, 15, 15, 15, 15, 15, 7, 7, 7, 7, 7, 7, 7, 7, 7, 7]\n",
      "Anonymization Cost = 46\n"
     ]
    }
   ],
   "source": [
    "k = random.randint(low=3, high=10) \n",
    "degree_sequence = generateDegreeSequence(20, lowest_degree = 1, highest_degree = 15)\n",
    "print(\"Not Anonymized Sequence: {}\".format(degree_sequence))\n",
    "anonymization_cost, anonymized_sequence = dynamicPrograming(k, degree_sequence)\n",
    "print(\"{}-Anonymized Sequence:{}\".format(k, anonymized_sequence))\n",
    "print(\"Anonymization Cost = {}\".format(anonymization_cost))"
   ]
  },
  {
   "cell_type": "markdown",
   "metadata": {},
   "source": [
    "##### Time Complexity \n",
    "Now let us focus on the time complexity of this algorithm. We will take a bunch of degree lists of **varying size** and plot the computation time to anonymize them."
   ]
  },
  {
   "cell_type": "code",
   "execution_count": 4,
   "metadata": {},
   "outputs": [
    {
     "name": "stdout",
     "output_type": "stream",
     "text": [
      "Done                                                                                                    \n"
     ]
    },
    {
     "data": {
      "image/png": "[encoded data removed]",
      "text/plain": [
       "<Figure size 432x288 with 1 Axes>"
      ]
     },
     "metadata": {
      "needs_background": "light"
     },
     "output_type": "display_data"
    }
   ],
   "source": [
    "import time\n",
    "from matplotlib import pyplot as plt\n",
    "\n",
    "for k in range(3, 7):\n",
    "    size_of_sequence = list() \n",
    "    performance = list()\n",
    "    \n",
    "    for size in range(10, 51):\n",
    "        degree_sequence = generateDegreeSequence(size) # Generates the degree sequence\n",
    "        start_timer = time.time()               # start timer\n",
    "        dynamicPrograming(k, degree_sequence)  # Algorithm called for observation\n",
    "        end_timer = time.time() # stop timer\n",
    "        time_taken = end_timer - start_timer\n",
    "        \n",
    "        size_of_sequence.append(size)        # stores the size^(2) of a degree sequence\n",
    "        performance.append(time_taken)       # stores the time taken by the algorithm for that degree sequence \n",
    "        \n",
    "        # Shell Massage\n",
    "        print('{}-Degree Anonymizing Sequence of length {}. Please wait ...'.format(k, size), end='\\r', flush=True)\n",
    "    \n",
    "    plt.plot(size_of_sequence, performance, label='k = {}'.format(k))\n",
    "\n",
    "\n",
    "print('{}\\r'.format('Done'+' '*100)) # Clearing Shell Message  \n",
    "plt.xlabel(\"Size of the Degree Sequence ($n$)\")\n",
    "plt.ylabel(\"Time taken to Anonymize (s)\")\n",
    "plt.legend()\n",
    "plt.show()"
   ]
  },
  {
   "cell_type": "markdown",
   "metadata": {},
   "source": [
    "#### Observation\n",
    "Lower the degree anonymization factor $k$, higher it takes to anonymize the sequence. With this small amount of data it *can not* be verified that time complexity is $O(n^{2})$. It took around $100$ seconds to $3$-degree anonymize a sequence of length $50$. There are multiple ways to bring down the anonymization time. One of them is by optimizing the algorithm.\n",
    "\n",
    "##### Optimization\n",
    "From observation, it can be confirmed that *no anonymous group* is larger than $2k − 1$. If any group is larger than or equal to $2k$, it can be *broken into two subgroups* with equal or lower overall degree-anonymization cost. Which essencially turns out that the preprocessing step $I\\big(d[i,j]\\big)$ does not need to consider all of the combinations of $\\big(i,j\\big)$ but only, $k \\, \\le \\, j-i+1 \\, \\le \\, 2k-1$.\n",
    "<br>\n",
    "Similarly, for every $i$, we do not have to consider all $t$’s in the range $k \\le t \\le i − k$ in Recursion, but only $t$’s in the range $\\max\\big\\{k, i − 2k + 1\\big\\} \\le t \\le i − k$.\n",
    "<br>\n",
    "<br>\n",
    "$$\n",
    "\\begin{equation}\n",
    "Da\\big(d[1, i]\\big) = \\min\\bigg\\{ \\min_{\\max\\{k, \\, i − 2k + 1\\} \\, \\le \\, t \\,  \\le \\, i − k}\\Big\\{Da\\big(d[1, t]\\big)+I\\big(d[t+1, i-k]\\big)\\Big\\}, \\; I\\big(d[1, i]\\big)\\bigg\\}\n",
    "\\end{equation}\n",
    "$$\n",
    "\n",
    "#### Python Implementation\n",
    "So, the *optimization* is essencially done by changing the lower limit of the *range of value* that every iteration of $t$ (i.e. chunk in code). \n"
   ]
  },
  {
   "cell_type": "code",
   "execution_count": 4,
   "metadata": {},
   "outputs": [],
   "source": [
    "# Input: degree sequence and the value of k as input\n",
    "# Output: the cost of anonymization, anonymized sequence\n",
    "def optimizedDynamicPrograming(k, degree_sequence): \n",
    "\n",
    "    number_of_nodes = len(degree_sequence)\n",
    "    cost_vs_degree_sequences = dict()\n",
    "    \n",
    "    if k > number_of_nodes / 2:\n",
    "        return putInSameGroup(degree_sequence)\n",
    "\n",
    "    else:\n",
    "        cost_vs_degree_sequences.clear()\n",
    "        lower_range = max(k, (number_of_nodes - 2*k + 1)) #The lower range is replaced with optimized range\n",
    "        upper_range = number_of_nodes - k+1\n",
    "        for chunk in range(lower_range, upper_range):\n",
    "            to_anonymize = degree_sequence[0: chunk]                \n",
    "            in_same_group = degree_sequence[chunk: number_of_nodes] \n",
    "            \n",
    "            cost_anonymize, sequence_anonymized = optimizedDynamicPrograming(k, to_anonymize)\n",
    "            cost_same_group, same_group_squence = putInSameGroup(in_same_group)\n",
    "        \n",
    "            chunk_cost = cost_anonymize + cost_same_group\n",
    "            anonymized_chunk = sequence_anonymized + same_group_squence\n",
    "            cost_vs_degree_sequences[chunk_cost] = anonymized_chunk\n",
    "        \n",
    "        return min(cost_vs_degree_sequences.items(), key = lambda x: x[0])\n"
   ]
  },
  {
   "cell_type": "code",
   "execution_count": 5,
   "metadata": {},
   "outputs": [
    {
     "ename": "NameError",
     "evalue": "name 'time' is not defined",
     "output_type": "error",
     "traceback": [
      "\u001b[1;31m---------------------------------------------------------------------------\u001b[0m",
      "\u001b[1;31mNameError\u001b[0m                                 Traceback (most recent call last)",
      "\u001b[1;32m<ipython-input-5-38342974c57a>\u001b[0m in \u001b[0;36m<module>\u001b[1;34m\u001b[0m\n\u001b[0;32m      5\u001b[0m     \u001b[1;32mfor\u001b[0m \u001b[0msize\u001b[0m \u001b[1;32min\u001b[0m \u001b[0mrange\u001b[0m\u001b[1;33m(\u001b[0m\u001b[1;36m10\u001b[0m\u001b[1;33m,\u001b[0m \u001b[1;36m51\u001b[0m\u001b[1;33m)\u001b[0m\u001b[1;33m:\u001b[0m\u001b[1;33m\u001b[0m\u001b[1;33m\u001b[0m\u001b[0m\n\u001b[0;32m      6\u001b[0m         \u001b[0mdegree_sequence\u001b[0m \u001b[1;33m=\u001b[0m \u001b[0mgenerateDegreeSequence\u001b[0m\u001b[1;33m(\u001b[0m\u001b[0msize\u001b[0m\u001b[1;33m)\u001b[0m\u001b[1;33m\u001b[0m\u001b[1;33m\u001b[0m\u001b[0m\n\u001b[1;32m----> 7\u001b[1;33m         \u001b[0mstart_timer\u001b[0m \u001b[1;33m=\u001b[0m \u001b[0mtime\u001b[0m\u001b[1;33m.\u001b[0m\u001b[0mtime\u001b[0m\u001b[1;33m(\u001b[0m\u001b[1;33m)\u001b[0m\u001b[1;33m\u001b[0m\u001b[1;33m\u001b[0m\u001b[0m\n\u001b[0m\u001b[0;32m      8\u001b[0m         \u001b[0moptimizedDynamicPrograming\u001b[0m\u001b[1;33m(\u001b[0m\u001b[0mk\u001b[0m\u001b[1;33m,\u001b[0m \u001b[0mdegree_sequence\u001b[0m\u001b[1;33m)\u001b[0m\u001b[1;33m\u001b[0m\u001b[1;33m\u001b[0m\u001b[0m\n\u001b[0;32m      9\u001b[0m         \u001b[0mend_timer\u001b[0m \u001b[1;33m=\u001b[0m \u001b[0mtime\u001b[0m\u001b[1;33m.\u001b[0m\u001b[0mtime\u001b[0m\u001b[1;33m(\u001b[0m\u001b[1;33m)\u001b[0m\u001b[1;33m\u001b[0m\u001b[1;33m\u001b[0m\u001b[0m\n",
      "\u001b[1;31mNameError\u001b[0m: name 'time' is not defined"
     ]
    }
   ],
   "source": [
    "for k in range(3, 7):\n",
    "    size_of_sequence = list()\n",
    "    performance = list()\n",
    "    \n",
    "    for size in range(10, 51):\n",
    "        degree_sequence = generateDegreeSequence(size)\n",
    "        start_timer = time.time()\n",
    "        optimizedDynamicPrograming(k, degree_sequence)\n",
    "        end_timer = time.time()\n",
    "        time_taken = end_timer - start_timer\n",
    "        \n",
    "        size_of_sequence.append(size)\n",
    "        performance.append(time_taken)\n",
    "        \n",
    "        # Shell Message\n",
    "        print('{}-Degree Anonymizing Sequence of length {}. Please wait ...'.format(k, size), end='\\r', flush=True)\n",
    "    \n",
    "    \n",
    "    plt.plot(size_of_sequence, performance, label='k = {}'.format(k))\n",
    "\n",
    "    \n",
    "print('{}\\r'.format('Done' + ' '*100)) # Clearing Shell Message\n",
    "\n",
    "plt.xlabel(\"Size of the Degree Sequence ($n$)\")\n",
    "plt.ylabel(\"Time taken to Anonymize (s)\")\n",
    "plt.legend()\n",
    "plt.show()"
   ]
  },
  {
   "cell_type": "markdown",
   "metadata": {},
   "source": [
    "#### Observation\n",
    "Again, lower the value of $k$ higher it takes to anonymize the sequence. For this small set of degree sequences it can not be proved that the complexity is $O(kn)$ but, it is certain that range optimization improves performance. It took around $1.5$ seconds to $3$-degree anonymize a sequence of same length. Which is approximately $100$ times faster than unoptimized algorithm.\n",
    "<br>\n",
    "\n",
    "#### 2.2.2. Memorized Dynamic Programing\n",
    "There is one more way to bring down the run-time of this algorithm, that is by *memorization*. But in order to find out what to memorize, we have to look at the dynamic programing algorithm closely."
   ]
  },
  {
   "cell_type": "code",
   "execution_count": 6,
   "metadata": {},
   "outputs": [
    {
     "data": {
      "text/plain": [
       "(19, [20, 20, 20, 16, 16, 16, 13, 13, 13, 13, 9, 9, 9, 9, 6, 6, 6, 4, 4, 4])"
      ]
     },
     "execution_count": 6,
     "metadata": {},
     "output_type": "execute_result"
    }
   ],
   "source": [
    "def dynamicPrograming_observe(k, degree_sequence):  #As we are making some changes in the code, we want to give a new name \n",
    "\n",
    "    number_of_nodes = len(degree_sequence)\n",
    "    cost_vs_degree_sequences = dict()\n",
    "\n",
    "    if k > number_of_nodes / 2:\n",
    "        return putInSameGroup(degree_sequence)\n",
    "\n",
    "    else:\n",
    "        cost_vs_degree_sequences.clear()\n",
    "        for chunk in range(k, number_of_nodes - k+1):\n",
    "            to_anonymize = degree_sequence[0: chunk]     \n",
    "            in_same_group = degree_sequence[chunk: number_of_nodes]\n",
    "            \n",
    "            cost_anonymize, sequence_anonymized = dynamicPrograming_observe(k, to_anonymize)\n",
    "            cost_same_group, same_group_squence = putInSameGroup(in_same_group)\n",
    "            \n",
    "            chunk_cost = cost_anonymize + cost_same_group\n",
    "            anonymized_chunk = sequence_anonymized + same_group_squence\n",
    "            cost_vs_degree_sequences[chunk_cost] = anonymized_chunk \n",
    "            \n",
    "            #print((chunk, number_of_nodes), anonymized_chunk) #Printing this for observation\n",
    "            \n",
    "        return min(cost_vs_degree_sequences.items(), key = lambda x: x[0])\n",
    "    \n",
    "    \n",
    "# Generating a degree sequence of length 20 for testing\n",
    "degree_sequence = generateDegreeSequence(20)\n",
    "k = 3\n",
    "dynamicPrograming_observe(k, degree_sequence)"
   ]
  },
  {
   "cell_type": "markdown",
   "metadata": {},
   "source": [
    "##### Analysis\n",
    "In the whole recursion heap some anonymized sub-sequence (i.e. *anonymized_chunk* in the coed) appears multiple number of times. To be more specific, every time when the tuple (*chunk, number_of_nodes*) appears. But we are spending computational resources every time. \n",
    "<br>\n",
    "Instead we can **memorize** the *anonymization cost* and *anonymized chunk* and recall it every time we encounter the specific tuple through out the entire heap. We will use (*chunk, number_of_nodes*) as **key** to store (anonymization cost, anonymized sub-sequence) as its **value** in a Dictionary called *cache*. By default Python Dictionary will store the key as a *hash* value in its key space. So, serching for a *value* using *key* is constant in time. Which, as opposed to storing them as lists will not affect the time complexity of the algorithm.   \n",
    "<br>\n",
    "<br>\n",
    "As optimization discussed earlier just modifies the range of iteration, memorized algorithm can also benifit from it.   "
   ]
  },
  {
   "cell_type": "markdown",
   "metadata": {},
   "source": [
    "### 2.3. The \"Dynamic Module\" and its Usage\n",
    "We have created a python module called *dynamic* which not only inclueds both unoptimised and optimized dynamic programing algorithm but also includes memorized dynamic algorithm as well. Oppose to the code written in this notebook, the module is flexible in terms of values of k, accepts degree list/tuples/numpy arrays which is unordered and provide easy debugging features like Exceptions.\n",
    "<br>\n",
    "* ### a. Using the module\n",
    "*import* **dynamic**\n",
    "<br>\n",
    "<br>\n",
    "* ### b. dynamic.calculateCost(original_list, modified_list)\n",
    "    Calculates the cost of transforming one list into another list.\n",
    "    \n",
    "    * #### Input: \n",
    "\n",
    "        * **original_list**-- A list as with which to comapair. Accepted data types *list/tuples/numpy arrays*.\n",
    "        * **modified_list**-- A list to compair with original_list. Accepted data types *list/tuples/numpy arrays*.\n",
    "\n",
    "    * #### Output: \n",
    "        * Cost of transforming one into another. Datatype is int/float.\n",
    "<br>\n",
    "<br>\n",
    "* ### c. dpGraphAnonymization(k, degree_sequence, optimization)\n",
    "    This method is essencially both optimized and unoptimized the dynamic graph anonymization algorithm.\n",
    "\n",
    "    * #### Input:\n",
    "    \n",
    "        * **k**-- A value of $k$, the degree anonymization factor, of type *int*. \n",
    "        * **degree_sequence**-- Degree sequence (ordered/unordered) of data type <em>lists/tuples/numpy arrays</em>.\n",
    "        * **optimization**-- This argument decides if the algorithm is going to be an optimized dynamic algorithm or an unoptimized dyanmic algorithm. This argument is *optional* and takes a *boolean* input. Which is *False* by default. I.e. by default *dpGraphAnonymization()* runs unoptimized algorithm.   \n",
    "\n",
    "    * #### Output:\n",
    "        * The method returns two outputs. The first output is the *cost of anonymization* which is of type *int* and the second output is the anonymized degree sequence, which is a *list*.  \n",
    "<br>\n",
    "<br>\n",
    "* ### d. memorizedDPGraphAnonymization(k, degree_sequence, optimization)\n",
    "    This method is essencially both optimized and unoptimized the *memorized* dynamic graph anonymization algorithm.\n",
    "\n",
    "    * #### Input:\n",
    "    \n",
    "        * **k**-- A value of $k$, the degree anonymization factor, of type *int*. \n",
    "        * **degree_sequence**-- Degree sequence (ordered/unordered) of data type *lists/tuples/numpy arrays*.\n",
    "        * **optimization**-- This argument decides if the algorithm is going to be an optimized memorized dynamic algorithm or  an unoptimized memorized dyanmic algorithm. This argument is *optional* and takes a *boolean* input. Which is *False* by default. I.e. by default *memorizedDPGraphAnonymization()* is unoptimized algorithm.\n",
    "\n",
    "    * #### Output:\n",
    "        * The method returns two outputs. The first output is the *cost of anonymization* which is of type *int* and the second output is the anonymized degree sequence, which is a *list*.\n",
    "<br>\n",
    "\n",
    "#### Conformance Checking\n",
    "From now on we will use the algorithms from the <strong>dynamic</strong> module. With that in mind, lets check if the memorized dynamic algorithm produces <em>identical</em> outcomes as the original algorithm and if so, what is the running time of the process."
   ]
  },
  {
   "cell_type": "code",
   "execution_count": 7,
   "metadata": {},
   "outputs": [
    {
     "name": "stdout",
     "output_type": "stream",
     "text": [
      "for k = 3 outcomes from dynamic and memorized matches 100.0%\n",
      "for k = 4 outcomes from dynamic and memorized matches 100.0%\n",
      "for k = 5 outcomes from dynamic and memorized matches 100.0%\n",
      "for k = 6 outcomes from dynamic and memorized matches 100.0%\n",
      "for k = 7 outcomes from dynamic and memorized matches 100.0%\n",
      "for k = 8 outcomes from dynamic and memorized matches 100.0%\n",
      "for k = 9 outcomes from dynamic and memorized matches 100.0%\n",
      "for k = 10 outcomes from dynamic and memorized matches 100.0%\n"
     ]
    }
   ],
   "source": [
    "#Compairing Memorized vs optimized dynamic programming from paper\n",
    "import dynamic\n",
    "\n",
    "for k in range(3, 11):\n",
    "    match_list = list()\n",
    "    \n",
    "    for size in range(10, 51):\n",
    "        \n",
    "        degree_sequence = generateDegreeSequence(size)\n",
    "        cost_dy, anonymized_seq_dy = dynamic.dpGraphAnonymization(k, degree_sequence, optimization=True)\n",
    "        cost_mem, anonymized_seq_mem = dynamic.memorizedDPGraphAnonymization(k, degree_sequence, optimization=True)\n",
    "        \n",
    "        if cost_dy == cost_mem and anonymized_seq_dy == anonymized_seq_mem:\n",
    "            match_list.append(\"match\")\n",
    "        \n",
    "        else:\n",
    "            match_list.append(\"mis_match\")\n",
    "            \n",
    "    total_matches = match_list.count(\"match\")\n",
    "    match_percentage = total_matches/len(match_list)*100\n",
    "    \n",
    "    print(\"for k = {} outcomes from dynamic and memorized matches {}%\".format(k, match_percentage))\n",
    "    "
   ]
  },
  {
   "cell_type": "markdown",
   "metadata": {},
   "source": [
    "#### Performance Checking\n",
    "Now, as we have checked that results are identical for both of the algorithms, let's check the running time of **memorized** dynamic graph anonymization algorithm. We will check both *optimized and unoptimized* memorized algorithm.  "
   ]
  },
  {
   "cell_type": "code",
   "execution_count": 8,
   "metadata": {},
   "outputs": [
    {
     "ename": "NameError",
     "evalue": "name 'plt' is not defined",
     "output_type": "error",
     "traceback": [
      "\u001b[1;31m---------------------------------------------------------------------------\u001b[0m",
      "\u001b[1;31mNameError\u001b[0m                                 Traceback (most recent call last)",
      "\u001b[1;32m<ipython-input-8-f92a6cdfcf83>\u001b[0m in \u001b[0;36m<module>\u001b[1;34m\u001b[0m\n\u001b[0;32m      2\u001b[0m \u001b[1;31m# Just the memorized algorithms with and without optimization\u001b[0m\u001b[1;33m\u001b[0m\u001b[1;33m\u001b[0m\u001b[1;33m\u001b[0m\u001b[0m\n\u001b[0;32m      3\u001b[0m \u001b[1;33m\u001b[0m\u001b[0m\n\u001b[1;32m----> 4\u001b[1;33m \u001b[0mfigure\u001b[0m\u001b[1;33m,\u001b[0m\u001b[1;33m(\u001b[0m\u001b[0mnot_opt\u001b[0m\u001b[1;33m,\u001b[0m \u001b[0mopt\u001b[0m\u001b[1;33m)\u001b[0m \u001b[1;33m=\u001b[0m \u001b[0mplt\u001b[0m\u001b[1;33m.\u001b[0m\u001b[0msubplots\u001b[0m\u001b[1;33m(\u001b[0m\u001b[1;36m1\u001b[0m\u001b[1;33m,\u001b[0m \u001b[1;36m2\u001b[0m\u001b[1;33m,\u001b[0m\u001b[0mfigsize\u001b[0m\u001b[1;33m=\u001b[0m\u001b[1;33m(\u001b[0m\u001b[1;36m15\u001b[0m\u001b[1;33m,\u001b[0m\u001b[1;36m5\u001b[0m\u001b[1;33m)\u001b[0m\u001b[1;33m)\u001b[0m\u001b[1;33m\u001b[0m\u001b[1;33m\u001b[0m\u001b[0m\n\u001b[0m\u001b[0;32m      5\u001b[0m \u001b[0mfigure\u001b[0m\u001b[1;33m.\u001b[0m\u001b[0msubplots_adjust\u001b[0m\u001b[1;33m(\u001b[0m\u001b[0mhspace\u001b[0m\u001b[1;33m=\u001b[0m\u001b[1;36m0.4\u001b[0m\u001b[1;33m,\u001b[0m \u001b[0mwspace\u001b[0m\u001b[1;33m=\u001b[0m\u001b[1;36m0.4\u001b[0m\u001b[1;33m)\u001b[0m\u001b[1;33m\u001b[0m\u001b[1;33m\u001b[0m\u001b[0m\n\u001b[0;32m      6\u001b[0m \u001b[1;33m\u001b[0m\u001b[0m\n",
      "\u001b[1;31mNameError\u001b[0m: name 'plt' is not defined"
     ]
    }
   ],
   "source": [
    "import time\n",
    "# Just the memorized algorithms with and without optimization \n",
    "\n",
    "figure,(not_opt, opt) = plt.subplots(1, 2,figsize=(15,5))\n",
    "figure.subplots_adjust(hspace=0.4, wspace=0.4)\n",
    "\n",
    "for k in range(3, 7): #Range of value of k\n",
    "    size_of_sequence = list()\n",
    "    opt_performance = list()\n",
    "    not_opt_performance = list()\n",
    "    \n",
    "    for size in range(10, 151, 20): #Size of the degree Sequence \n",
    "        degree_sequence = generateDegreeSequence(size)\n",
    "        size_of_sequence.append(size) # store the size for plotting\n",
    "        \n",
    "        # For Degree sequence of this size Call not optimized algorithm and measure time \n",
    "        not_opt_start_timer = time.time()   \n",
    "        dynamic.memorizedDPGraphAnonymization(k, degree_sequence, optimization = False)\n",
    "        not_opt_end_timer = time.time()\n",
    "        not_opt_time_taken = not_opt_end_timer - not_opt_start_timer \n",
    "        not_opt_performance.append(not_opt_time_taken)\n",
    "        \n",
    "        # For Degree sequence of this size Call not optimized algorithm and measure time \n",
    "        opt_start_timer = time.time()\n",
    "        dynamic.memorizedDPGraphAnonymization(k, degree_sequence, optimization = True)\n",
    "        opt_end_timer = time.time()\n",
    "        opt_time_taken = opt_end_timer - opt_start_timer\n",
    "        opt_performance.append(opt_time_taken)\n",
    "    \n",
    "    #Ploting size vs Performance for unoptimized Memorized Algorithm \n",
    "    not_opt.plot(size_of_sequence, not_opt_performance, label='k = {}'.format(k)) \n",
    "    not_opt.legend()                                                 \n",
    "    \n",
    "    #Ploting size vs Performance for unoptimized Memorized Algorithm \n",
    "    opt.plot(size_of_sequence, opt_performance, label='k = {}'.format(k))       \n",
    "    opt.legend()                                                               \n",
    "    \n",
    "    \n",
    "not_opt.set_xlabel(\"Size of the Degree Sequence ($n$)\")\n",
    "not_opt.set_ylabel(\"Time taken to Anonymize (s)\")\n",
    "not_opt.set_title(\"Unoptimized Memorized DP\")\n",
    "\n",
    "opt.set_xlabel(\"Size of the Degree Sequence ($n$)\")\n",
    "opt.set_ylabel(\"Time taken to Anonymize (s)\")\n",
    "opt.set_title(\"Optimized Memorized DP\")\n",
    "\n",
    "\n",
    "plt.show()"
   ]
  },
  {
   "cell_type": "markdown",
   "metadata": {},
   "source": [
    "#### Conclusion\n",
    "First of all it is very clear that Memorized Dynamic Programing works way better than any not memorized algorithm, even if thats optimized.\n",
    "<br>\n",
    "<br>\n",
    "<center><img src=\"./Assets/dp_time_chart.svg\" alt=\"drawing\" width=\"500\"/></center>\n",
    "<br>\n",
    "<center><strong><em>figure:</em></strong> Performance for $3$-Degree Anonymization</center>\n",
    "<br>\n",
    "<br>\n",
    "\n",
    "From the diagram above it can also be said that the Optimized Memorized Dynamic Programing algorithm is the best in terms of performance (almost $10 \\times$ faster than unoptimized memorized). **So, from now onwards**, \n",
    "<br>\n",
    "<br> \n",
    "<center><strong>Dynamic Programing algorithm $\\Longrightarrow$ Optimized Memorized Dynamic Programing Algorithm</strong></center>\n",
    "\n",
    "## 3. Comparison between Greedy Swap and Dynamic Programing\n",
    "The *Greedy swap* algorithm is implemented in the \"greedy\" module. The module can be used by ***import* greedy**. The algorithm can be put to use by calling **greedy.greedy_rec_algorithm(k_degree, array_degrees,  pos_init, extension)**. \n",
    "<br>\n",
    "* #### Input:\n",
    "    This method takes *four* arguments:\n",
    "    * **k_degree**-- Degree anonymization factor of data type *int*.\n",
    "    * **array_degrees**-- A sorted degree sequence of data type *list*.\n",
    "    \n",
    "* #### Output:\n",
    "    * It returns the anonymized degree sequence.\n",
    "<br>\n",
    "\n",
    "### 3.1. Running-time Performance Check\n",
    "We are not going to discuss the formulatation of the algorythm but we will test it against dynamic algorithm. Let's first test the running-time performance of the Greedy Algorithm with compaired to Dynamic Algorithm for synthetic data and then we will move to Real data to test *accuracy* wise performance."
   ]
  },
  {
   "cell_type": "code",
   "execution_count": 1,
   "metadata": {},
   "outputs": [],
   "source": [
    "import dynamic\n",
    "import greedy"
   ]
  },
  {
   "cell_type": "code",
   "execution_count": 2,
   "metadata": {},
   "outputs": [
    {
     "ename": "NameError",
     "evalue": "name 'plt' is not defined",
     "output_type": "error",
     "traceback": [
      "\u001b[1;31m---------------------------------------------------------------------------\u001b[0m",
      "\u001b[1;31mNameError\u001b[0m                                 Traceback (most recent call last)",
      "\u001b[1;32m<ipython-input-2-33add9c4fc67>\u001b[0m in \u001b[0;36m<module>\u001b[1;34m\u001b[0m\n\u001b[1;32m----> 1\u001b[1;33m \u001b[0mfigure\u001b[0m\u001b[1;33m,\u001b[0m\u001b[1;33m(\u001b[0m\u001b[0mfigure_dynamic\u001b[0m\u001b[1;33m,\u001b[0m \u001b[0mfigure_greedy\u001b[0m\u001b[1;33m)\u001b[0m \u001b[1;33m=\u001b[0m \u001b[0mplt\u001b[0m\u001b[1;33m.\u001b[0m\u001b[0msubplots\u001b[0m\u001b[1;33m(\u001b[0m\u001b[1;36m1\u001b[0m\u001b[1;33m,\u001b[0m \u001b[1;36m2\u001b[0m\u001b[1;33m,\u001b[0m\u001b[0mfigsize\u001b[0m\u001b[1;33m=\u001b[0m\u001b[1;33m(\u001b[0m\u001b[1;36m15\u001b[0m\u001b[1;33m,\u001b[0m\u001b[1;36m5\u001b[0m\u001b[1;33m)\u001b[0m\u001b[1;33m)\u001b[0m\u001b[1;33m\u001b[0m\u001b[1;33m\u001b[0m\u001b[0m\n\u001b[0m\u001b[0;32m      2\u001b[0m \u001b[0mfigure\u001b[0m\u001b[1;33m.\u001b[0m\u001b[0msubplots_adjust\u001b[0m\u001b[1;33m(\u001b[0m\u001b[0mhspace\u001b[0m\u001b[1;33m=\u001b[0m\u001b[1;36m0.4\u001b[0m\u001b[1;33m,\u001b[0m \u001b[0mwspace\u001b[0m\u001b[1;33m=\u001b[0m\u001b[1;36m0.4\u001b[0m\u001b[1;33m)\u001b[0m\u001b[1;33m\u001b[0m\u001b[1;33m\u001b[0m\u001b[0m\n\u001b[0;32m      3\u001b[0m \u001b[1;33m\u001b[0m\u001b[0m\n\u001b[0;32m      4\u001b[0m \u001b[1;32mfor\u001b[0m \u001b[0mk\u001b[0m \u001b[1;32min\u001b[0m \u001b[0mrange\u001b[0m\u001b[1;33m(\u001b[0m\u001b[1;36m3\u001b[0m\u001b[1;33m,\u001b[0m \u001b[1;36m7\u001b[0m\u001b[1;33m)\u001b[0m\u001b[1;33m:\u001b[0m \u001b[1;31m#Range of value of k\u001b[0m\u001b[1;33m\u001b[0m\u001b[1;33m\u001b[0m\u001b[0m\n\u001b[0;32m      5\u001b[0m     \u001b[0msize_of_sequence\u001b[0m \u001b[1;33m=\u001b[0m \u001b[0mlist\u001b[0m\u001b[1;33m(\u001b[0m\u001b[1;33m)\u001b[0m\u001b[1;33m\u001b[0m\u001b[1;33m\u001b[0m\u001b[0m\n",
      "\u001b[1;31mNameError\u001b[0m: name 'plt' is not defined"
     ]
    }
   ],
   "source": [
    "figure,(figure_dynamic, figure_greedy) = plt.subplots(1, 2,figsize=(15,5))\n",
    "figure.subplots_adjust(hspace=0.4, wspace=0.4)\n",
    "\n",
    "for k in range(3, 7): #Range of value of k\n",
    "    size_of_sequence = list()\n",
    "    dynamic_performance = list()\n",
    "    greedy_performance = list()\n",
    "    \n",
    "    for size in range(100, 401, 50): #Size of the degree Sequence \n",
    "        degree_sequence = generateDegreeSequence(size)\n",
    "        size_of_sequence.append(size) # store the size for plotting\n",
    "        \n",
    "        # For Degree sequence of this size Call dynamic algorithm and measure time \n",
    "        dynamic_start_timer = time.time()   \n",
    "        dynamic.memorizedDPGraphAnonymization(k, degree_sequence, optimization = True)\n",
    "        dynamic_end_timer = time.time()\n",
    "        dynamic_time_taken = dynamic_end_timer - dynamic_start_timer \n",
    "        dynamic_performance.append(dynamic_time_taken)\n",
    "        \n",
    "        # For Degree sequence of this size Call greedy algorithm and measure time \n",
    "        greedy_start_timer = time.time()\n",
    "        greedy.greedy_rec_algorithm(k, degree_sequence)\n",
    "        greedy_end_timer = time.time()\n",
    "        greedy_time_taken = greedy_end_timer - greedy_start_timer\n",
    "        greedy_performance.append(greedy_time_taken)\n",
    "    \n",
    "    #Ploting size vs Performance for Dynamic Algorithm \n",
    "    figure_dynamic.plot(size_of_sequence, dynamic_performance, label='k = {}'.format(k)) \n",
    "    figure_dynamic.legend()                                                 \n",
    "    \n",
    "    #Ploting size vs Performance for Greedy Algorithm \n",
    "    figure_greedy.plot(size_of_sequence, greedy_performance, label='k = {}'.format(k))       \n",
    "    figure_greedy.legend()                                                               \n",
    "    \n",
    "    \n",
    "figure_dynamic.set_xlabel(\"Size of the Degree Sequence ($n$)\")\n",
    "figure_dynamic.set_ylabel(\"Time taken to Anonymize (s)\")\n",
    "figure_dynamic.set_title(\"Dynamic Algorithm\")\n",
    "\n",
    "figure_greedy.set_xlabel(\"Size of the Degree Sequence ($n$)\")\n",
    "figure_greedy.set_ylabel(\"Time taken to Anonymize (s)\")\n",
    "figure_greedy.set_title(\"Greedy Algorithm\")\n",
    "\n",
    "\n",
    "plt.show()"
   ]
  },
  {
   "cell_type": "markdown",
   "metadata": {},
   "source": [
    "With degree lists from size $100 \\to 400$ we can spot that Memorized dynamic programing is $O(n)$. But greedy algorithm seems constant in time. So, running time performance of Greedy Algorithm is better than **any** Dynamic Programming Algorithm.\n",
    "\n",
    "### 3.2. Accuracy Performance Check\n",
    "Performance can be in terms of accuracy of the outcome as well. In that case, the lose function is the key to measure such performance. Here we define an indicator called **Performance Ratio $(R)$**, \n",
    "<br>\n",
    "$$\n",
    "\\begin{equation}\n",
    "R = \\frac{L\\big(\\hat{d}_{Greedy} - d\\big)}{L\\big(\\hat{d}_{Dyanmic} - d\\big)}\n",
    "\\end{equation}\n",
    "$$\n",
    "<br>\n",
    "The dynamic programing algorithm in the module already returns the cost of anonymization. So, we do not have to calculate that. But for the Greedy algorithm only returns a anonymized sequence. So, we will use a method from \"greedy\" module called *calculateCost()* to calculate the anonymization cost.\n"
   ]
  },
  {
   "cell_type": "markdown",
   "metadata": {},
   "source": [
    "#### Experiment\n",
    "For experiments, we will switch from synthetic data to \"quakers data\" in the dataset and calculate $R$ for different degree anonymization factors $(k)$. "
   ]
  },
  {
   "cell_type": "markdown",
   "metadata": {},
   "source": [
    "##### a) Getting the Degree Sequence and correspondin Array Sequence from \"quakers data\""
   ]
  },
  {
   "cell_type": "code",
   "execution_count": 3,
   "metadata": {},
   "outputs": [],
   "source": [
    "import numpy as np\n",
    "import networkx as nx\n",
    "import csv\n",
    "\n",
    "G = nx.Graph()\n",
    "    \n",
    "with open('Datasets/quakers_nodelist.csv' , 'r') as nodecsv:  # Open the file\n",
    "    nodereader = csv.reader(nodecsv)  # Read the csv\n",
    "        # Retrieve the data (using Python list comprhension and list slicing to remove the header row, see footnote 3)\n",
    "    nodes = [ n for n in nodereader ][ 1: ]\n",
    "\n",
    "node_names = [ n[ 0 ] for n in nodes ]  # Get a list of only the node names\n",
    "\n",
    "with open('Datasets/quakers_edgelist.csv' , 'r') as edgecsv:  # Open the file\n",
    "    edgereader = csv.reader(edgecsv)  # Read the csv\n",
    "    edges = [ tuple(e) for e in edgereader ][ 1: ]  # Retrieve the data\n",
    "G.add_nodes_from(node_names)\n",
    "G.add_edges_from(edges)\n",
    "\n",
    "degree_array_quaker = np.array(list(map(lambda x:x[1], G.degree())))\n",
    "\n",
    "degree_sequence_quaker = np.sort(degree_array_quaker)[::-1].tolist() \n",
    "index_sequence_quaker = np.argsort(degree_array_quaker)[::-1].tolist()"
   ]
  },
  {
   "cell_type": "markdown",
   "metadata": {},
   "source": [
    "##### b) Getting the Degree Sequence and correspondin Array Sequence from \"netscience.gml\"\n"
   ]
  },
  {
   "cell_type": "code",
   "execution_count": 4,
   "metadata": {},
   "outputs": [],
   "source": [
    "G = nx.read_gml('Datasets/netscience.gml')\n",
    "degree_array_netscience = np.array(list(map(lambda x:x[1], G.degree())))\n",
    "\n",
    "degree_sequence_netscience = np.sort(degree_array_netscience)[::-1].tolist() \n",
    "index_sequence_netscience = np.argsort(degree_array_netscience)[::-1].tolist()"
   ]
  },
  {
   "cell_type": "markdown",
   "metadata": {},
   "source": [
    "##### A Function to Compute the value of R for a $k$ and a Degree List "
   ]
  },
  {
   "cell_type": "code",
   "execution_count": 5,
   "metadata": {},
   "outputs": [],
   "source": [
    "def computeRvalue(k, degree_sequence):\n",
    "    \n",
    "    # Calculating cost of dynamic anonymization for k\n",
    "    dynamic_cost, dynamic_anonymized_seq = dynamic.memorizedDPGraphAnonymization(k, degree_sequence, optimization=True)\n",
    "\n",
    "    # Calculating cost of greedy anonymization for k\n",
    "    greedy_anonymized_seq = greedy.greedy_rec_algorithm(k, degree_sequence)\n",
    "    greedy_cost = dynamic.calculateCost(degree_sequence, greedy_anonymized_seq)\n",
    "    \n",
    "    r_value = greedy_cost/dynamic_cost    \n",
    "    \n",
    "    return r_value"
   ]
  },
  {
   "cell_type": "markdown",
   "metadata": {},
   "source": [
    "##### Plotting R vs $k$ Barchart"
   ]
  },
  {
   "cell_type": "code",
   "execution_count": 9,
   "metadata": {},
   "outputs": [
    {
     "data": {
      "image/png": "[encoded data removed]",
      "text/plain": [
       "<Figure size 432x288 with 1 Axes>"
      ]
     },
     "metadata": {
      "needs_background": "light"
     },
     "output_type": "display_data"
    }
   ],
   "source": [
    "import matplotlib\n",
    "import matplotlib.pyplot as plt\n",
    "\n",
    "\n",
    "list_of_k = [k for k in range(3, 21)]\n",
    "\n",
    "list_of_R_quaker = [computeRvalue(k, degree_sequence_quaker) for k in list_of_k]\n",
    "list_of_R_netscience = [computeRvalue(k, degree_sequence_netscience) for k in list_of_k]\n",
    "\n",
    "#Plotting using subplots\n",
    "bar_width = 0.35\n",
    "fig, ax = plt.subplots()\n",
    "rects1 = ax.bar([x - bar_width/2 for x in list_of_k], list_of_R_quaker, \n",
    "                width = bar_width, label='quaker, Size = {}'.format(len(degree_sequence_quaker)))\n",
    "\n",
    "rects2 = ax.bar([x + bar_width/2 for x in list_of_k], list_of_R_netscience, \n",
    "                width = bar_width, label='netscience, size = {}'.format(len(degree_sequence_netscience)))\n",
    "\n",
    "ax.set_ylabel('Performance Ratio (R)')\n",
    "ax.set_xlabel('Degree Anonymity $k$')\n",
    "ax.set_xticks(list_of_k)\n",
    "ax.legend()\n",
    "\n",
    "plt.show()\n"
   ]
  },
  {
   "cell_type": "markdown",
   "metadata": {},
   "source": [
    "### 4. Graph Construction"
   ]
  },
  {
   "cell_type": "code",
   "execution_count": null,
   "metadata": {},
   "outputs": [],
   "source": []
  },
  {
   "cell_type": "code",
   "execution_count": null,
   "metadata": {},
   "outputs": [],
   "source": []
  }
 ],
 "metadata": {
  "kernelspec": {
   "display_name": "Python 3",
   "language": "python",
   "name": "python3"
  },
  "language_info": {
   "codemirror_mode": {
    "name": "ipython",
    "version": 3
   },
   "file_extension": ".py",
   "mimetype": "text/x-python",
   "name": "python",
   "nbconvert_exporter": "python",
   "pygments_lexer": "ipython3",
   "version": "3.8.3"
  }
 },
 "nbformat": 4,
 "nbformat_minor": 4
}
